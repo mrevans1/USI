{
 "cells": [
  {
   "cell_type": "code",
   "execution_count": 1,
   "metadata": {
    "collapsed": false
   },
   "outputs": [
    {
     "name": "stdout",
     "output_type": "stream",
     "text": [
      "Populating the interactive namespace from numpy and matplotlib\n"
     ]
    },
    {
     "name": "stderr",
     "output_type": "stream",
     "text": [
      "WARNING: pylab import has clobbered these variables: ['datetime']\n",
      "`%matplotlib` prevents importing * from pylab and numpy\n"
     ]
    }
   ],
   "source": [
    "import pylab as pl\n",
    "import pandas as pd\n",
    "import numpy as np\n",
    "import os\n",
    "import scipy.stats\n",
    "import statsmodels.formula.api as smf\n",
    "from datetime import timedelta, date, datetime\n",
    "import statsmodels.api as sm\n",
    "import statsmodels.formula.api as smf\n",
    "\n",
    "pl.style.use('ggplot')\n",
    "%pylab inline"
   ]
  },
  {
   "cell_type": "markdown",
   "metadata": {},
   "source": [
    "#Data Wrangling"
   ]
  },
  {
   "cell_type": "code",
   "execution_count": 2,
   "metadata": {
    "collapsed": true
   },
   "outputs": [],
   "source": [
    "complaints = pd.read_csv('311_complaints.csv')\n",
    "collisions = pd.read_csv('matched.csv')"
   ]
  },
  {
   "cell_type": "code",
   "execution_count": 3,
   "metadata": {
    "collapsed": false
   },
   "outputs": [
    {
     "data": {
      "text/plain": [
       "(287899, 8)"
      ]
     },
     "execution_count": 3,
     "metadata": {},
     "output_type": "execute_result"
    }
   ],
   "source": [
    "complaints.shape"
   ]
  },
  {
   "cell_type": "code",
   "execution_count": 4,
   "metadata": {
    "collapsed": true
   },
   "outputs": [],
   "source": [
    "merged = pd.merge(complaints, collisions, on=['created_date', 'closed_date'], how = 'left')"
   ]
  },
  {
   "cell_type": "code",
   "execution_count": 5,
   "metadata": {
    "collapsed": false,
    "scrolled": false
   },
   "outputs": [],
   "source": [
    "merged['collision'].fillna(0, inplace=True)"
   ]
  },
  {
   "cell_type": "code",
   "execution_count": 6,
   "metadata": {
    "collapsed": false
   },
   "outputs": [],
   "source": [
    "merged['created_date'] = pd.to_datetime(pd.Series(merged['created_date']))"
   ]
  },
  {
   "cell_type": "code",
   "execution_count": 7,
   "metadata": {
    "collapsed": false
   },
   "outputs": [],
   "source": [
    "#Here we create two columns for evaluating the time of day and if the event occurred during peak travel hours\n",
    "\n",
    "daytime = 6\n",
    "nighttime = 19\n",
    "peak_start1 = 6\n",
    "peak_end1 = 10\n",
    "peak_start2 = 16\n",
    "peak_end2 = 18\n",
    "\n",
    "#Creating two columns based on evaluations of the TIME column\n",
    "merged['Night'] = merged.created_date.apply(lambda x:  (x.hour <= daytime or x.hour >= nighttime))\n",
    "merged['Peak'] = merged.created_date.apply(lambda x: ((peak_start1 <= x.hour < peak_end1) | (peak_start2 <= x.hour < peak_end2)))"
   ]
  },
  {
   "cell_type": "code",
   "execution_count": 8,
   "metadata": {
    "collapsed": true
   },
   "outputs": [],
   "source": [
    "merged['Night'] = merged['Night'].astype(int)\n",
    "merged['Peak'] = merged['Peak'].astype(int)"
   ]
  },
  {
   "cell_type": "code",
   "execution_count": 9,
   "metadata": {
    "collapsed": false
   },
   "outputs": [
    {
     "data": {
      "text/html": [
       "<div>\n",
       "<table border=\"1\" class=\"dataframe\">\n",
       "  <thead>\n",
       "    <tr style=\"text-align: right;\">\n",
       "      <th></th>\n",
       "      <th>Unnamed: 0</th>\n",
       "      <th>weather_condition</th>\n",
       "      <th>created_date</th>\n",
       "      <th>closed_date</th>\n",
       "      <th>agency</th>\n",
       "      <th>complaint_type</th>\n",
       "      <th>descriptor</th>\n",
       "      <th>borough</th>\n",
       "      <th>collision</th>\n",
       "      <th>Night</th>\n",
       "      <th>Peak</th>\n",
       "    </tr>\n",
       "  </thead>\n",
       "  <tbody>\n",
       "    <tr>\n",
       "      <th>0</th>\n",
       "      <td>0</td>\n",
       "      <td>Clear</td>\n",
       "      <td>2012-07-01 23:40:00</td>\n",
       "      <td>7/1/2012 23:50</td>\n",
       "      <td>DOT</td>\n",
       "      <td>Traffic Signal Condition</td>\n",
       "      <td>Junction Box</td>\n",
       "      <td>BRONX</td>\n",
       "      <td>0</td>\n",
       "      <td>1</td>\n",
       "      <td>0</td>\n",
       "    </tr>\n",
       "    <tr>\n",
       "      <th>1</th>\n",
       "      <td>1</td>\n",
       "      <td>Clear</td>\n",
       "      <td>2012-07-01 23:25:00</td>\n",
       "      <td>7/1/2012 23:35</td>\n",
       "      <td>DOT</td>\n",
       "      <td>Traffic Signal Condition</td>\n",
       "      <td>Base Door</td>\n",
       "      <td>QUEENS</td>\n",
       "      <td>0</td>\n",
       "      <td>1</td>\n",
       "      <td>0</td>\n",
       "    </tr>\n",
       "    <tr>\n",
       "      <th>2</th>\n",
       "      <td>2</td>\n",
       "      <td>Clear</td>\n",
       "      <td>2012-07-01 23:21:00</td>\n",
       "      <td>7/2/2012 10:02</td>\n",
       "      <td>DOT</td>\n",
       "      <td>Street Light Condition</td>\n",
       "      <td>Street Light Out</td>\n",
       "      <td>QUEENS</td>\n",
       "      <td>0</td>\n",
       "      <td>1</td>\n",
       "      <td>0</td>\n",
       "    </tr>\n",
       "  </tbody>\n",
       "</table>\n",
       "</div>"
      ],
      "text/plain": [
       "   Unnamed: 0 weather_condition        created_date     closed_date agency  \\\n",
       "0           0             Clear 2012-07-01 23:40:00  7/1/2012 23:50    DOT   \n",
       "1           1             Clear 2012-07-01 23:25:00  7/1/2012 23:35    DOT   \n",
       "2           2             Clear 2012-07-01 23:21:00  7/2/2012 10:02    DOT   \n",
       "\n",
       "             complaint_type        descriptor borough  collision  Night  Peak  \n",
       "0  Traffic Signal Condition      Junction Box   BRONX          0      1     0  \n",
       "1  Traffic Signal Condition         Base Door  QUEENS          0      1     0  \n",
       "2    Street Light Condition  Street Light Out  QUEENS          0      1     0  "
      ]
     },
     "execution_count": 9,
     "metadata": {},
     "output_type": "execute_result"
    }
   ],
   "source": [
    "merged.head(3)"
   ]
  },
  {
   "cell_type": "markdown",
   "metadata": {},
   "source": [
    "#Logistic Regression"
   ]
  },
  {
   "cell_type": "markdown",
   "metadata": {},
   "source": [
    "### I get a weird linear algebra error when I run the logit with too many variables, so I have two different models"
   ]
  },
  {
   "cell_type": "code",
   "execution_count": 10,
   "metadata": {
    "collapsed": false
   },
   "outputs": [
    {
     "name": "stdout",
     "output_type": "stream",
     "text": [
      "Warning: Maximum number of iterations has been exceeded.\n",
      "         Current function value: 0.096612\n",
      "         Iterations: 35\n",
      "                           Logit Regression Results                           \n",
      "==============================================================================\n",
      "Dep. Variable:              collision   No. Observations:               289575\n",
      "Model:                          Logit   Df Residuals:                   289567\n",
      "Method:                           MLE   Df Model:                            7\n",
      "Date:                Sun, 13 Dec 2015   Pseudo R-squ.:                 0.02305\n",
      "Time:                        13:14:38   Log-Likelihood:                -27976.\n",
      "converged:                      False   LL-Null:                       -28636.\n",
      "                                        LLR p-value:                7.354e-281\n",
      "==============================================================================================================\n",
      "                                                 coef    std err          z      P>|z|      [95.0% Conf. Int.]\n",
      "--------------------------------------------------------------------------------------------------------------\n",
      "Intercept                                     -4.2356      0.048    -88.270      0.000        -4.330    -4.142\n",
      "complaint_type[T.Traffic]                    -17.7522    350.356     -0.051      0.960      -704.437   668.933\n",
      "complaint_type[T.Traffic Signal Condition]    -0.3340      0.030    -11.244      0.000        -0.392    -0.276\n",
      "borough[T.BROOKLYN]                            0.7466      0.052     14.355      0.000         0.645     0.849\n",
      "borough[T.MANHATTAN]                           1.1776      0.067     17.522      0.000         1.046     1.309\n",
      "borough[T.QUEENS]                              0.4158      0.053      7.883      0.000         0.312     0.519\n",
      "borough[T.STATEN ISLAND]                      -0.4552      0.084     -5.450      0.000        -0.619    -0.292\n",
      "borough[T.Unspecified]                       -12.0437    428.456     -0.028      0.978      -851.802   827.714\n",
      "==============================================================================================================\n"
     ]
    },
    {
     "name": "stderr",
     "output_type": "stream",
     "text": [
      "C:\\Users\\Erwan\\Anaconda\\lib\\site-packages\\statsmodels\\base\\model.py:466: ConvergenceWarning: Maximum Likelihood optimization failed to converge. Check mle_retvals\n",
      "  \"Check mle_retvals\", ConvergenceWarning)\n"
     ]
    }
   ],
   "source": [
    "logit_mod = smf.logit('collision ~ complaint_type + borough', data = merged).fit()\n",
    "print (logit_mod.summary())"
   ]
  },
  {
   "cell_type": "code",
   "execution_count": 11,
   "metadata": {
    "collapsed": false
   },
   "outputs": [
    {
     "name": "stdout",
     "output_type": "stream",
     "text": [
      "        Logit Marginal Effects       \n",
      "=====================================\n",
      "Dep. Variable:              collision\n",
      "Method:                          dydx\n",
      "At:                           overall\n",
      "==============================================================================================================\n",
      "                                                dy/dx    std err          z      P>|z|      [95.0% Conf. Int.]\n",
      "--------------------------------------------------------------------------------------------------------------\n",
      "complaint_type[T.Traffic]                     -0.3504      6.915     -0.051      0.960       -13.903    13.202\n",
      "complaint_type[T.Traffic Signal Condition]    -0.0066      0.001    -11.144      0.000        -0.008    -0.005\n",
      "borough[T.BROOKLYN]                            0.0147      0.001     14.145      0.000         0.013     0.017\n",
      "borough[T.MANHATTAN]                           0.0232      0.001     17.153      0.000         0.021     0.026\n",
      "borough[T.QUEENS]                              0.0082      0.001      7.847      0.000         0.006     0.010\n",
      "borough[T.STATEN ISLAND]                      -0.0090      0.002     -5.438      0.000        -0.012    -0.006\n",
      "borough[T.Unspecified]                        -0.2377      8.456     -0.028      0.978       -16.811    16.336\n",
      "==============================================================================================================\n"
     ]
    }
   ],
   "source": [
    "marginal = logit_mod.get_margeff()\n",
    "print (marginal.summary())"
   ]
  },
  {
   "cell_type": "markdown",
   "metadata": {},
   "source": [
    "##Statistically Significant Variables:\n",
    "####TRAFFIC SIGNAL CONDITION has a NEGATIVE impact on the probability of a collision occuring. One additional traffic signal condition decreases this probability by 0.0066 or 0.66%. \n",
    "####STATEN ISLAND 311 calls have NEGATIVE impact on the probability of a collision occuring. One additional 311 call from Staten Island decreases this probability by 0.009 or 0.9%..\n",
    "####BROOKLYN 311 calls have POSITIVE impact on the probability of a collision occuring. One additional 311 call from Brooklyn increases this probability by 0.0147 or 1.47%.\n",
    "####MANAHTTAN 311 calls have POSITIVE impact on the probability of a collision occuring. One additional 311 call from Manhattan increases this probability by 0.0232 or 2.32%. \n",
    "####QUEENS 311 calls have POSITIVE impact on the probability of a collision occuring. One additional 311 call from Queens increases this probability by 0.0082 or 0.82%. "
   ]
  },
  {
   "cell_type": "code",
   "execution_count": 12,
   "metadata": {
    "collapsed": false
   },
   "outputs": [
    {
     "name": "stdout",
     "output_type": "stream",
     "text": [
      "Warning: Maximum number of iterations has been exceeded.\n",
      "         Current function value: 0.098304\n",
      "         Iterations: 35\n",
      "                           Logit Regression Results                           \n",
      "==============================================================================\n",
      "Dep. Variable:              collision   No. Observations:               289575\n",
      "Model:                          Logit   Df Residuals:                   289562\n",
      "Method:                           MLE   Df Model:                           12\n",
      "Date:                Sun, 13 Dec 2015   Pseudo R-squ.:                0.005943\n",
      "Time:                        13:14:50   Log-Likelihood:                -28466.\n",
      "converged:                      False   LL-Null:                       -28636.\n",
      "                                        LLR p-value:                 1.494e-65\n",
      "============================================================================================================\n",
      "                                               coef    std err          z      P>|z|      [95.0% Conf. Int.]\n",
      "------------------------------------------------------------------------------------------------------------\n",
      "Intercept                                   -3.8512      0.020   -193.055      0.000        -3.890    -3.812\n",
      "weather_condition[T.Haze]                    0.2864      0.092      3.116      0.002         0.106     0.467\n",
      "weather_condition[T.Light Freezing Rain]   -21.1694    1.5e+04     -0.001      0.999     -2.94e+04  2.94e+04\n",
      "weather_condition[T.Light Rain]              0.0541      0.071      0.759      0.448        -0.086     0.194\n",
      "weather_condition[T.Light Snow]             -0.7473      0.133     -5.615      0.000        -1.008    -0.486\n",
      "weather_condition[T.Mostly Cloudy]          -0.2622      0.088     -2.974      0.003        -0.435    -0.089\n",
      "weather_condition[T.Overcast]                0.0720      0.030      2.389      0.017         0.013     0.131\n",
      "weather_condition[T.Partly Cloudy]         -18.3530   3432.829     -0.005      0.996     -6746.575  6709.869\n",
      "weather_condition[T.Rain]                    0.7117      0.118      6.014      0.000         0.480     0.944\n",
      "weather_condition[T.Snow]                    0.9112      0.214      4.252      0.000         0.491     1.331\n",
      "weather_condition[T.Unknown]                 1.1608      0.080     14.487      0.000         1.004     1.318\n",
      "Night                                       -0.2069      0.036     -5.819      0.000        -0.277    -0.137\n",
      "Peak                                        -0.1362      0.034     -4.045      0.000        -0.202    -0.070\n",
      "============================================================================================================\n"
     ]
    },
    {
     "name": "stderr",
     "output_type": "stream",
     "text": [
      "C:\\Users\\Erwan\\Anaconda\\lib\\site-packages\\statsmodels\\base\\model.py:466: ConvergenceWarning: Maximum Likelihood optimization failed to converge. Check mle_retvals\n",
      "  \"Check mle_retvals\", ConvergenceWarning)\n"
     ]
    }
   ],
   "source": [
    "logit_mod = smf.logit('collision ~ weather_condition + Night + Peak', data = merged).fit()\n",
    "print (logit_mod.summary())"
   ]
  },
  {
   "cell_type": "code",
   "execution_count": 13,
   "metadata": {
    "collapsed": false
   },
   "outputs": [
    {
     "name": "stdout",
     "output_type": "stream",
     "text": [
      "        Logit Marginal Effects       \n",
      "=====================================\n",
      "Dep. Variable:              collision\n",
      "Method:                          dydx\n",
      "At:                           overall\n",
      "============================================================================================================\n",
      "                                              dy/dx    std err          z      P>|z|      [95.0% Conf. Int.]\n",
      "------------------------------------------------------------------------------------------------------------\n",
      "weather_condition[T.Haze]                    0.0057      0.002      3.113      0.002         0.002     0.009\n",
      "weather_condition[T.Light Freezing Rain]    -0.4188    296.673     -0.001      0.999      -581.888   581.050\n",
      "weather_condition[T.Light Rain]              0.0011      0.001      0.759      0.448        -0.002     0.004\n",
      "weather_condition[T.Light Snow]             -0.0148      0.003     -5.602      0.000        -0.020    -0.010\n",
      "weather_condition[T.Mostly Cloudy]          -0.0052      0.002     -2.972      0.003        -0.009    -0.002\n",
      "weather_condition[T.Overcast]                0.0014      0.001      2.388      0.017         0.000     0.003\n",
      "weather_condition[T.Partly Cloudy]          -0.3631     67.911     -0.005      0.996      -133.465   132.739\n",
      "weather_condition[T.Rain]                    0.0141      0.002      5.999      0.000         0.009     0.019\n",
      "weather_condition[T.Snow]                    0.0180      0.004      4.247      0.000         0.010     0.026\n",
      "weather_condition[T.Unknown]                 0.0230      0.002     14.285      0.000         0.020     0.026\n",
      "Night                                       -0.0041      0.001     -5.804      0.000        -0.005    -0.003\n",
      "Peak                                        -0.0027      0.001     -4.041      0.000        -0.004    -0.001\n",
      "============================================================================================================\n"
     ]
    }
   ],
   "source": [
    "marginal = logit_mod.get_margeff()\n",
    "print (marginal.summary())"
   ]
  },
  {
   "cell_type": "markdown",
   "metadata": {
    "collapsed": true
   },
   "source": [
    "##Statistically Significant Variables:\n",
    "\n",
    "####311 calls during the NIGHT have a NEGATIVE impact on the probability of a collision occuring. One additional 311 call during the night decreases this probability by -0.0041 or -0.41%. \n",
    "\n",
    "####311 calls during PEAK hours have a NEGATIVE impact on the probability of a collision occuring. One additional 311 call during peak hours decreases this probability by -0.0027 or -0.27%. \n",
    "\n",
    "####311 calls during LIGHT SNOW have a NEGATIVE impact on the probability of a collision occuring. One additional 311 call during light now decreases this probability by -0.0148 or -1.48%. \n",
    "\n",
    "####311 calls during MOSTLY CLOUDY weather have a NEGATIVE impact on the probability of a collision occuring. One additional 311 call during mostly cloudy weather decreases this probability by -0.0052 or -0.52%. \n",
    "\n",
    "####311 calls during HAZE have a POSITIVE impact on the probability of a collision occuring. One additional 311 call during haze increases this probability by 0.0057 or 0.57%. \n",
    "\n",
    "####311 calls during OVERCAST weather have a POSITIVE impact on the probability of a collision occuring. One additional 311 call during overcast weather increases this probability by 0.0014 or 0.14%. \n",
    "\n",
    "####311 calls during RAIN have a POSITIVE impact on the probability of a collision occuring. One additional 311 call during rain increases this probability by 0.0141 or 1.41%. \n",
    "\n",
    "####311 calls during SNOW have a POSITIVE impact on the probability of a collision occuring. One additional 311 call during snow increases this probability by 0.018 or 1.8%. \n",
    "\n",
    "####311 calls during UNKNOWN weather have a POSITIVE impact on the probability of a collision occuring. One additional 311 call during unknown weather increases this probability by 0.023 or 2.3%. \n",
    "\n"
   ]
  },
  {
   "cell_type": "code",
   "execution_count": null,
   "metadata": {
    "collapsed": true
   },
   "outputs": [],
   "source": []
  }
 ],
 "metadata": {
  "kernelspec": {
   "display_name": "Python 2",
   "language": "python",
   "name": "python2"
  },
  "language_info": {
   "codemirror_mode": {
    "name": "ipython",
    "version": 2
   },
   "file_extension": ".py",
   "mimetype": "text/x-python",
   "name": "python",
   "nbconvert_exporter": "python",
   "pygments_lexer": "ipython2",
   "version": "2.7.10"
  }
 },
 "nbformat": 4,
 "nbformat_minor": 0
}
